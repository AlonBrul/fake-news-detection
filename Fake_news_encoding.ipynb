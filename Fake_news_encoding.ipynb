{
  "nbformat": 4,
  "nbformat_minor": 0,
  "metadata": {
    "colab": {
      "name": "Fake news encoding.ipynb",
      "provenance": [],
      "collapsed_sections": [],
      "toc_visible": true
    },
    "kernelspec": {
      "name": "python3",
      "display_name": "Python 3"
    },
    "accelerator": "TPU"
  },
  "cells": [
    {
      "cell_type": "markdown",
      "metadata": {
        "id": "hxysQwwVZbv6"
      },
      "source": [
        "In this notebook we encode the Liar-liar dataset's documents.<br>\n",
        "<br>\n",
        "The Liar-liar dataset contains two columns that will be used in the **Fake news learning** notebook, the **'fullText_based_content'** and the **'label-liar'** columns. The **'fullText_based_content'** column contains our documents, we will use **Bag-of-words** encoding to encode its content.\n",
        "\n",
        "Additionaly, we will extract **contextualized embeddings** of the documents from a **Bert** model, we will use these embeddings in the **Fake news learning** notebook as an alternative data to the **BOW** encodings."
      ]
    },
    {
      "cell_type": "markdown",
      "metadata": {
        "id": "JeDDC5pWFwhz"
      },
      "source": [
        "# Data exploration"
      ]
    },
    {
      "cell_type": "markdown",
      "metadata": {
        "id": "-ACvH0OMGEgL"
      },
      "source": [
        "### Imports & definitions"
      ]
    },
    {
      "cell_type": "code",
      "metadata": {
        "id": "k1Svk_ENGCe_"
      },
      "source": [
        "import pandas as pd\n",
        "import numpy as np"
      ],
      "execution_count": 5,
      "outputs": []
    },
    {
      "cell_type": "markdown",
      "metadata": {
        "id": "9TvamdahGI_e"
      },
      "source": [
        "### Get train and test datasets"
      ]
    },
    {
      "cell_type": "code",
      "metadata": {
        "id": "2zHIQ6WkF35e"
      },
      "source": [
        "#train\n",
        "num_splits = 7\n",
        "train = pd.read_csv('https://raw.githubusercontent.com/AlonBrul/liar-liar-dataset/main/liar_train_0.csv')\n",
        "for i in range(1, num_splits):\n",
        "  temp = pd.read_csv(f'https://raw.githubusercontent.com/AlonBrul/liar-liar-dataset/main/liar_train_{i}.csv')\n",
        "  train = train.append(temp)\n",
        "\n",
        "#test\n",
        "test = pd.read_csv('https://raw.githubusercontent.com/AlonBrul/liar-liar-dataset-train/main/liar_test.csv')"
      ],
      "execution_count": 6,
      "outputs": []
    },
    {
      "cell_type": "code",
      "metadata": {
        "colab": {
          "base_uri": "https://localhost:8080/",
          "height": 210
        },
        "id": "QNUcWktbF5R9",
        "outputId": "70f9d704-6a58-4c04-ba5f-5ab578ad839d"
      },
      "source": [
        "train.head(3)"
      ],
      "execution_count": null,
      "outputs": [
        {
          "output_type": "execute_result",
          "data": {
            "text/html": [
              "<div>\n",
              "<style scoped>\n",
              "    .dataframe tbody tr th:only-of-type {\n",
              "        vertical-align: middle;\n",
              "    }\n",
              "\n",
              "    .dataframe tbody tr th {\n",
              "        vertical-align: top;\n",
              "    }\n",
              "\n",
              "    .dataframe thead th {\n",
              "        text-align: right;\n",
              "    }\n",
              "</style>\n",
              "<table border=\"1\" class=\"dataframe\">\n",
              "  <thead>\n",
              "    <tr style=\"text-align: right;\">\n",
              "      <th></th>\n",
              "      <th>id</th>\n",
              "      <th>date</th>\n",
              "      <th>speaker</th>\n",
              "      <th>statement</th>\n",
              "      <th>sources</th>\n",
              "      <th>paragraph_based_content</th>\n",
              "      <th>fullText_based_content</th>\n",
              "      <th>label-liar</th>\n",
              "    </tr>\n",
              "  </thead>\n",
              "  <tbody>\n",
              "    <tr>\n",
              "      <th>0</th>\n",
              "      <td>18178</td>\n",
              "      <td>2020-03-18T13:26:42-04:00</td>\n",
              "      <td>Instagram posts</td>\n",
              "      <td>\"COVID-19 started because we eat animals.\"</td>\n",
              "      <td>['https://www.cdc.gov/coronavirus/2019-ncov/ca...</td>\n",
              "      <td>['Vegan Instagram users are pinning the 2019 c...</td>\n",
              "      <td>Vegan Instagram users are pinning the 2019 cor...</td>\n",
              "      <td>barely-true</td>\n",
              "    </tr>\n",
              "    <tr>\n",
              "      <th>1</th>\n",
              "      <td>3350</td>\n",
              "      <td>2011-03-04T09:12:59-05:00</td>\n",
              "      <td>Glenn Beck</td>\n",
              "      <td>Says Michelle Obama has 43 people on her staff...</td>\n",
              "      <td>['http://www.glennbeck.com/2011/02/25/while-wo...</td>\n",
              "      <td>['Glenn Beck rekindled a falsehood about the s...</td>\n",
              "      <td>Glenn Beck rekindled a falsehood about the siz...</td>\n",
              "      <td>pants-fire</td>\n",
              "    </tr>\n",
              "    <tr>\n",
              "      <th>2</th>\n",
              "      <td>14343</td>\n",
              "      <td>2017-07-21T11:52:44-04:00</td>\n",
              "      <td>Mike Pence</td>\n",
              "      <td>Says President Donald Trump \"has signed more l...</td>\n",
              "      <td>['https://nrf.com/events/retail-advocates-summ...</td>\n",
              "      <td>['Vice President Mike Pence says that when it ...</td>\n",
              "      <td>Vice President Mike Pence says that when it co...</td>\n",
              "      <td>half-true</td>\n",
              "    </tr>\n",
              "  </tbody>\n",
              "</table>\n",
              "</div>"
            ],
            "text/plain": [
              "      id  ...   label-liar\n",
              "0  18178  ...  barely-true\n",
              "1   3350  ...   pants-fire\n",
              "2  14343  ...    half-true\n",
              "\n",
              "[3 rows x 8 columns]"
            ]
          },
          "metadata": {
            "tags": []
          },
          "execution_count": 33
        }
      ]
    },
    {
      "cell_type": "markdown",
      "metadata": {
        "id": "MhWIyfo_GPqr"
      },
      "source": [
        "We want only **fullText_based_content** and **label-liar** columns.<br>\n",
        "Lets -\n",
        "### drop unwanted columns"
      ]
    },
    {
      "cell_type": "code",
      "metadata": {
        "id": "nGKvhS0jG48G"
      },
      "source": [
        "train.drop(['id', 'date', 'speaker', 'statement', 'sources', 'paragraph_based_content'], axis=1, inplace=True)\n",
        "test.drop(['id', 'date', 'speaker', 'statement', 'sources', 'paragraph_based_content'], axis=1, inplace=True)"
      ],
      "execution_count": 7,
      "outputs": []
    },
    {
      "cell_type": "code",
      "metadata": {
        "colab": {
          "base_uri": "https://localhost:8080/",
          "height": 142
        },
        "id": "QQogRtbDHf-k",
        "outputId": "185a6567-b2c1-4eaa-a901-1a6e1d5174bc"
      },
      "source": [
        "train.head(3)"
      ],
      "execution_count": null,
      "outputs": [
        {
          "output_type": "execute_result",
          "data": {
            "text/html": [
              "<div>\n",
              "<style scoped>\n",
              "    .dataframe tbody tr th:only-of-type {\n",
              "        vertical-align: middle;\n",
              "    }\n",
              "\n",
              "    .dataframe tbody tr th {\n",
              "        vertical-align: top;\n",
              "    }\n",
              "\n",
              "    .dataframe thead th {\n",
              "        text-align: right;\n",
              "    }\n",
              "</style>\n",
              "<table border=\"1\" class=\"dataframe\">\n",
              "  <thead>\n",
              "    <tr style=\"text-align: right;\">\n",
              "      <th></th>\n",
              "      <th>fullText_based_content</th>\n",
              "      <th>label-liar</th>\n",
              "    </tr>\n",
              "  </thead>\n",
              "  <tbody>\n",
              "    <tr>\n",
              "      <th>0</th>\n",
              "      <td>Vegan Instagram users are pinning the 2019 cor...</td>\n",
              "      <td>barely-true</td>\n",
              "    </tr>\n",
              "    <tr>\n",
              "      <th>1</th>\n",
              "      <td>Glenn Beck rekindled a falsehood about the siz...</td>\n",
              "      <td>pants-fire</td>\n",
              "    </tr>\n",
              "    <tr>\n",
              "      <th>2</th>\n",
              "      <td>Vice President Mike Pence says that when it co...</td>\n",
              "      <td>half-true</td>\n",
              "    </tr>\n",
              "  </tbody>\n",
              "</table>\n",
              "</div>"
            ],
            "text/plain": [
              "                              fullText_based_content   label-liar\n",
              "0  Vegan Instagram users are pinning the 2019 cor...  barely-true\n",
              "1  Glenn Beck rekindled a falsehood about the siz...   pants-fire\n",
              "2  Vice President Mike Pence says that when it co...    half-true"
            ]
          },
          "metadata": {
            "tags": []
          },
          "execution_count": 35
        }
      ]
    },
    {
      "cell_type": "markdown",
      "metadata": {
        "id": "vXY6PtmsHmRQ"
      },
      "source": [
        "### Get information on the datasets"
      ]
    },
    {
      "cell_type": "code",
      "metadata": {
        "colab": {
          "base_uri": "https://localhost:8080/"
        },
        "id": "566hZKZ6Hwa7",
        "outputId": "e6586332-f18e-4610-ddf8-75c1bc4b85eb"
      },
      "source": [
        "print(train.info())\n",
        "print()\n",
        "print(test.info())"
      ],
      "execution_count": null,
      "outputs": [
        {
          "output_type": "stream",
          "text": [
            "<class 'pandas.core.frame.DataFrame'>\n",
            "Int64Index: 15052 entries, 0 to 2139\n",
            "Data columns (total 2 columns):\n",
            " #   Column                  Non-Null Count  Dtype \n",
            "---  ------                  --------------  ----- \n",
            " 0   fullText_based_content  15052 non-null  object\n",
            " 1   label-liar              15052 non-null  object\n",
            "dtypes: object(2)\n",
            "memory usage: 352.8+ KB\n",
            "None\n",
            "\n",
            "<class 'pandas.core.frame.DataFrame'>\n",
            "RangeIndex: 1266 entries, 0 to 1265\n",
            "Data columns (total 2 columns):\n",
            " #   Column                  Non-Null Count  Dtype \n",
            "---  ------                  --------------  ----- \n",
            " 0   fullText_based_content  1266 non-null   object\n",
            " 1   label-liar              1266 non-null   object\n",
            "dtypes: object(2)\n",
            "memory usage: 19.9+ KB\n",
            "None\n"
          ],
          "name": "stdout"
        }
      ]
    },
    {
      "cell_type": "markdown",
      "metadata": {
        "id": "Aj20xVt9H-Gp"
      },
      "source": [
        "Insight: There are 15052 rows in train and 1266 in test, all are non-null.<br>\n",
        "Lets find how the labels are divided."
      ]
    },
    {
      "cell_type": "code",
      "metadata": {
        "colab": {
          "base_uri": "https://localhost:8080/"
        },
        "id": "L96Fu3b6I1_f",
        "outputId": "348d04b6-41fd-45c8-a4a8-83264c75908b"
      },
      "source": [
        "train['label-liar'].value_counts()"
      ],
      "execution_count": null,
      "outputs": [
        {
          "output_type": "execute_result",
          "data": {
            "text/plain": [
              "false          3280\n",
              "half-true      2833\n",
              "mostly-true    2631\n",
              "barely-true    2483\n",
              "true           2050\n",
              "pants-fire     1775\n",
              "Name: label-liar, dtype: int64"
            ]
          },
          "metadata": {
            "tags": []
          },
          "execution_count": 37
        }
      ]
    },
    {
      "cell_type": "markdown",
      "metadata": {
        "id": "AulWYHCfKnVQ"
      },
      "source": [
        "Insight: There are more *false* labels (3280) than *true* labels (2050) but overall the labels are evenly divided.<br>\n",
        "Lets find the length of the documents in **fullText_based_content**<br>\n",
        "<br>\n",
        "Word tokenize the documents and count number of words."
      ]
    },
    {
      "cell_type": "code",
      "metadata": {
        "id": "zk-PdGhBMmzN",
        "colab": {
          "base_uri": "https://localhost:8080/"
        },
        "outputId": "e4951730-86d3-449c-d243-20a33892f496"
      },
      "source": [
        "import nltk\n",
        "from nltk.tokenize import word_tokenize\n",
        "nltk.download('punkt')\n",
        "\n",
        "train_docs_lst = train['fullText_based_content'].tolist()\n",
        "\n",
        "train_tokenized_docs = []\n",
        "for doc in train_docs_lst:\n",
        "  train_tokenized_docs.append(word_tokenize(doc))"
      ],
      "execution_count": 8,
      "outputs": [
        {
          "output_type": "stream",
          "text": [
            "[nltk_data] Downloading package punkt to /root/nltk_data...\n",
            "[nltk_data]   Package punkt is already up-to-date!\n"
          ],
          "name": "stdout"
        }
      ]
    },
    {
      "cell_type": "code",
      "metadata": {
        "id": "YxtV_93SPbpX",
        "colab": {
          "base_uri": "https://localhost:8080/"
        },
        "outputId": "73114052-7ff2-4005-ce94-b39bb9de9218"
      },
      "source": [
        "print(train_tokenized_docs[0][:8])"
      ],
      "execution_count": 34,
      "outputs": [
        {
          "output_type": "stream",
          "text": [
            "['vegan', 'instagram', 'users', 'are', 'pinning', 'the', 'coronavirus', 'outbreak']\n"
          ],
          "name": "stdout"
        }
      ]
    },
    {
      "cell_type": "code",
      "metadata": {
        "id": "tAHauhYKNJBY",
        "colab": {
          "base_uri": "https://localhost:8080/"
        },
        "outputId": "4212bfc2-b9de-4b5f-ec5c-ea4d76c52396"
      },
      "source": [
        "doc_len = len(train_tokenized_docs[0])\n",
        "train_min_len = doc_len\n",
        "train_max_len = doc_len\n",
        "train_avg_len = doc_len\n",
        "for doc in train_tokenized_docs:\n",
        "  doc_len = len(doc)\n",
        "\n",
        "  if train_min_len > doc_len:\n",
        "    train_min_len = doc_len\n",
        "\n",
        "  elif train_max_len < doc_len:\n",
        "    train_max_len = doc_len\n",
        "  \n",
        "  train_avg_len = (train_avg_len+doc_len)/2\n",
        "\n",
        "print('train_min_len = ', train_min_len, 'words')\n",
        "print('train_max_len = ', train_max_len, 'words')\n",
        "print('train_avg_len = ', train_avg_len, 'words')"
      ],
      "execution_count": 10,
      "outputs": [
        {
          "output_type": "stream",
          "text": [
            "train_min_len =  59 words\n",
            "train_max_len =  3440 words\n",
            "train_avg_len =  975.0845406342837 words\n"
          ],
          "name": "stdout"
        }
      ]
    },
    {
      "cell_type": "markdown",
      "metadata": {
        "id": "AT3NJaBKO_eb"
      },
      "source": [
        "Insights: The minimum document length is much shorter than the maximum document length, the average length is 975 words.<br>\n",
        "\n",
        "The acctual number of words is smaller though, because these lengths include punctuation marks and stop-words, which we will ignore, therefore it is safe to assume that the average document length will be close to 800 words."
      ]
    },
    {
      "cell_type": "markdown",
      "metadata": {
        "id": "8yD_NpVeKbij"
      },
      "source": [
        "# Bag-of-words encoding\n",
        "\n",
        "In this section, we encode the **'fullText_based_content'** column of the **Liar-liar** dataset (the documents) using **BOW** encoding.<br>\n",
        "**BOW** encoding assigns each word a unique number (e.g. the word \"apple\" is assigned the number 1209)\n",
        "\n",
        "The encoding process will be in the following manner:\n",
        "- Preprocess the text.\n",
        "  - Lower-case the text.\n",
        "  - Remove special characters.\n",
        "  - Remove stop words.\n",
        "  - Lemmatize words.\n",
        "- Calculate TF-IDF values for all words.\n",
        "- Create a vocabulary with best TF-IDF valued words.\n",
        "- Word Tokenize the documents.\n",
        "- Replace word-tokens with matching numbers.\n",
        "\n",
        "<br>\n",
        "A guide for extracting best TF-IDF valued words we used:<br>\n",
        "https://kavita-ganesan.com/extracting-keywords-from-text-tfidf/#.YIVJ7pAzaUk"
      ]
    },
    {
      "cell_type": "markdown",
      "metadata": {
        "id": "_QEgAHKKGtoR"
      },
      "source": [
        "### Imports & definitions"
      ]
    },
    {
      "cell_type": "code",
      "metadata": {
        "id": "P3rBoIo7EIZ7"
      },
      "source": [
        "import pandas as pd\n",
        "import numpy as np\n",
        "import io\n",
        "import time\n",
        "from tqdm import tqdm\n",
        "import re\n",
        "\n",
        "#nltk\n",
        "import nltk\n",
        "nltk.download('punkt')\n",
        "nltk.download('stopwords')\n",
        "nltk.download('wordnet')\n",
        "nltk.download('averaged_perceptron_tagger')\n",
        "from nltk.tokenize import word_tokenize\n",
        "from nltk.corpus import stopwords\n",
        "from nltk.stem import WordNetLemmatizer\n",
        "from nltk.corpus import wordnet\n",
        "\n",
        "from sklearn.feature_extraction.text import CountVectorizer\n",
        "from sklearn.feature_extraction.text import TfidfTransformer"
      ],
      "execution_count": null,
      "outputs": []
    },
    {
      "cell_type": "markdown",
      "metadata": {
        "id": "BlhHJv3FE8zz"
      },
      "source": [
        "### Get train and test datasets"
      ]
    },
    {
      "cell_type": "code",
      "metadata": {
        "id": "acwKOGn0E78C"
      },
      "source": [
        "#train\n",
        "num_splits = 7\n",
        "train = pd.read_csv('https://raw.githubusercontent.com/AlonBrul/liar-liar-dataset/main/liar_train_0.csv')\n",
        "for i in range(1, num_splits):\n",
        "  temp = pd.read_csv(f'https://raw.githubusercontent.com/AlonBrul/liar-liar-dataset/main/liar_train_{i}.csv')\n",
        "  train = train.append(temp)\n",
        "\n",
        "#test\n",
        "test = pd.read_csv('https://raw.githubusercontent.com/AlonBrul/liar-liar-dataset-train/main/liar_test.csv')"
      ],
      "execution_count": 13,
      "outputs": []
    },
    {
      "cell_type": "markdown",
      "metadata": {
        "id": "A7nvJREqE78E"
      },
      "source": [
        "### Drop unwanted columns"
      ]
    },
    {
      "cell_type": "code",
      "metadata": {
        "id": "M_W3-TGME78E"
      },
      "source": [
        "train.drop(['id', 'date', 'speaker', 'statement', 'sources', 'paragraph_based_content'], axis=1, inplace=True)\n",
        "test.drop(['id', 'date', 'speaker', 'statement', 'sources', 'paragraph_based_content'], axis=1, inplace=True)"
      ],
      "execution_count": 14,
      "outputs": []
    },
    {
      "cell_type": "code",
      "metadata": {
        "colab": {
          "base_uri": "https://localhost:8080/",
          "height": 142
        },
        "id": "_8hpB9OB6zZp",
        "outputId": "515cf60d-ff66-4746-cd20-f3d0e1f6d72c"
      },
      "source": [
        "train.head(3)"
      ],
      "execution_count": 4,
      "outputs": [
        {
          "output_type": "execute_result",
          "data": {
            "text/html": [
              "<div>\n",
              "<style scoped>\n",
              "    .dataframe tbody tr th:only-of-type {\n",
              "        vertical-align: middle;\n",
              "    }\n",
              "\n",
              "    .dataframe tbody tr th {\n",
              "        vertical-align: top;\n",
              "    }\n",
              "\n",
              "    .dataframe thead th {\n",
              "        text-align: right;\n",
              "    }\n",
              "</style>\n",
              "<table border=\"1\" class=\"dataframe\">\n",
              "  <thead>\n",
              "    <tr style=\"text-align: right;\">\n",
              "      <th></th>\n",
              "      <th>fullText_based_content</th>\n",
              "      <th>label-liar</th>\n",
              "    </tr>\n",
              "  </thead>\n",
              "  <tbody>\n",
              "    <tr>\n",
              "      <th>0</th>\n",
              "      <td>Vegan Instagram users are pinning the 2019 cor...</td>\n",
              "      <td>barely-true</td>\n",
              "    </tr>\n",
              "    <tr>\n",
              "      <th>1</th>\n",
              "      <td>Glenn Beck rekindled a falsehood about the siz...</td>\n",
              "      <td>pants-fire</td>\n",
              "    </tr>\n",
              "    <tr>\n",
              "      <th>2</th>\n",
              "      <td>Vice President Mike Pence says that when it co...</td>\n",
              "      <td>half-true</td>\n",
              "    </tr>\n",
              "  </tbody>\n",
              "</table>\n",
              "</div>"
            ],
            "text/plain": [
              "                              fullText_based_content   label-liar\n",
              "0  Vegan Instagram users are pinning the 2019 cor...  barely-true\n",
              "1  Glenn Beck rekindled a falsehood about the siz...   pants-fire\n",
              "2  Vice President Mike Pence says that when it co...    half-true"
            ]
          },
          "metadata": {
            "tags": []
          },
          "execution_count": 4
        }
      ]
    },
    {
      "cell_type": "markdown",
      "metadata": {
        "id": "hNlpfLicLb_r"
      },
      "source": [
        "## Preprocess corpus text"
      ]
    },
    {
      "cell_type": "code",
      "metadata": {
        "id": "3WM0dh-ZqzYA"
      },
      "source": [
        "def pre_process(text):\n",
        "    # lowercase\n",
        "    text=text.lower()\n",
        "    \n",
        "    # remove tags\n",
        "    text=re.sub(\"\",\"\",text)\n",
        "    \n",
        "    # remove special characters and digits\n",
        "    text=re.sub(\"(\\\\d|\\\\W)+\",\" \",text)\n",
        "    \n",
        "    return text\n",
        "\n",
        "train_docs = train['fullText_based_content'].apply(lambda x:pre_process(x))\n",
        "test_docs = test['fullText_based_content'].apply(lambda x:pre_process(x))"
      ],
      "execution_count": 15,
      "outputs": []
    },
    {
      "cell_type": "markdown",
      "metadata": {
        "id": "8z9qGx79td8_"
      },
      "source": [
        "### Tokenize words\n",
        "\n",
        "Tokenize documents for easier preprocessing."
      ]
    },
    {
      "cell_type": "code",
      "metadata": {
        "id": "8FVI9zfGIF6c",
        "colab": {
          "base_uri": "https://localhost:8080/"
        },
        "outputId": "db7c18b1-ee59-4c4d-f083-f364a8dcdce6"
      },
      "source": [
        "train_tokenized_docs = []\n",
        "for doc in tqdm(train_docs):\n",
        "  train_tokenized_docs.append(word_tokenize(doc))\n",
        "\n",
        "test_tokenized_docs = []\n",
        "for doc in tqdm(test_docs):\n",
        "  test_tokenized_docs.append(word_tokenize(doc))"
      ],
      "execution_count": 16,
      "outputs": [
        {
          "output_type": "stream",
          "text": [
            "100%|██████████| 15052/15052 [00:43<00:00, 343.55it/s]\n",
            "100%|██████████| 1266/1266 [00:03<00:00, 324.79it/s]\n"
          ],
          "name": "stderr"
        }
      ]
    },
    {
      "cell_type": "markdown",
      "metadata": {
        "id": "E3bEyZ0LL6QH"
      },
      "source": [
        "### Remove stop words"
      ]
    },
    {
      "cell_type": "code",
      "metadata": {
        "id": "kuZrsI6JLz_u",
        "colab": {
          "base_uri": "https://localhost:8080/"
        },
        "outputId": "ca4a69bf-a2aa-4d66-f505-a287a59e289c"
      },
      "source": [
        "stop_words = set(stopwords.words(\"english\"))\n",
        "\n",
        "train_filtered_docs = []\n",
        "for tokenized_doc in tqdm(train_tokenized_docs):\n",
        "  filtered_doc = []\n",
        "  for w in tokenized_doc:\n",
        "      if w not in stop_words:\n",
        "          filtered_doc.append(w)\n",
        "  train_filtered_docs.append(filtered_doc)\n",
        "\n",
        "test_filtered_docs = []\n",
        "for tokenized_doc in tqdm(test_tokenized_docs):\n",
        "  filtered_doc = []\n",
        "  for w in tokenized_doc:\n",
        "      if w not in stop_words:\n",
        "          filtered_doc.append(w)\n",
        "  test_filtered_docs.append(filtered_doc)"
      ],
      "execution_count": 17,
      "outputs": [
        {
          "output_type": "stream",
          "text": [
            "100%|██████████| 15052/15052 [00:02<00:00, 5279.95it/s]\n",
            "100%|██████████| 1266/1266 [00:00<00:00, 5336.81it/s]\n"
          ],
          "name": "stderr"
        }
      ]
    },
    {
      "cell_type": "markdown",
      "metadata": {
        "id": "8HuJY2z2QEI6"
      },
      "source": [
        "### Pos tagging\n",
        "\n",
        "Add Pos tagging (Part-of-speech tagging) for better lemmatization."
      ]
    },
    {
      "cell_type": "code",
      "metadata": {
        "id": "FGUE5fNxQG-4",
        "colab": {
          "base_uri": "https://localhost:8080/"
        },
        "outputId": "a546ca23-fad9-402e-c942-10346405b4bc"
      },
      "source": [
        "train_pos_docs = []\n",
        "for filtered_doc in tqdm(train_filtered_docs):\n",
        "  train_pos_docs.append(nltk.pos_tag(filtered_doc))\n",
        "\n",
        "test_pos_docs = []\n",
        "for filtered_doc in tqdm(test_filtered_docs):\n",
        "  test_pos_docs.append(nltk.pos_tag(filtered_doc))"
      ],
      "execution_count": 18,
      "outputs": [
        {
          "output_type": "stream",
          "text": [
            "100%|██████████| 15052/15052 [06:57<00:00, 36.03it/s]\n",
            "100%|██████████| 1266/1266 [00:36<00:00, 34.76it/s]\n"
          ],
          "name": "stderr"
        }
      ]
    },
    {
      "cell_type": "markdown",
      "metadata": {
        "id": "DmqNA0DaMFLS"
      },
      "source": [
        "### Lemmatize words"
      ]
    },
    {
      "cell_type": "code",
      "metadata": {
        "id": "wYTgprdIMErX",
        "colab": {
          "base_uri": "https://localhost:8080/"
        },
        "outputId": "6ff7fcc1-1511-416c-ce6c-ed61e02b7125"
      },
      "source": [
        "def get_wordnet_pos(treebank_tag):\n",
        "\n",
        "    if treebank_tag.startswith('J'):\n",
        "        return wordnet.ADJ\n",
        "    elif treebank_tag.startswith('V'):\n",
        "        return wordnet.VERB\n",
        "    elif treebank_tag.startswith('N'):\n",
        "        return wordnet.NOUN\n",
        "    elif treebank_tag.startswith('R'):\n",
        "        return wordnet.ADV\n",
        "    else:\n",
        "        return wordnet.NOUN\n",
        "\n",
        "lem = WordNetLemmatizer()\n",
        "\n",
        "train_lemmatized_docs = []\n",
        "for pos_doc in tqdm(train_pos_docs):\n",
        "  lemmatized_doc = []\n",
        "  for pos in pos_doc:\n",
        "    lemmatized_doc.append(lem.lemmatize(pos[0], get_wordnet_pos(pos[1])))\n",
        "  train_lemmatized_docs.append(lemmatized_doc)\n",
        "\n",
        "test_lemmatized_docs = []\n",
        "for pos_doc in tqdm(test_pos_docs):\n",
        "  lemmatized_doc = []\n",
        "  for pos in pos_doc:\n",
        "    lemmatized_doc.append(lem.lemmatize(pos[0], get_wordnet_pos(pos[1])))\n",
        "  test_lemmatized_docs.append(lemmatized_doc)"
      ],
      "execution_count": 19,
      "outputs": [
        {
          "output_type": "stream",
          "text": [
            "100%|██████████| 15052/15052 [00:38<00:00, 391.60it/s]\n",
            "100%|██████████| 1266/1266 [00:03<00:00, 372.46it/s]\n"
          ],
          "name": "stderr"
        }
      ]
    },
    {
      "cell_type": "markdown",
      "metadata": {
        "id": "jMNZ22Q7XGzg"
      },
      "source": [
        "Example of the preprocess result."
      ]
    },
    {
      "cell_type": "code",
      "metadata": {
        "id": "XXvT10kxO8aq",
        "colab": {
          "base_uri": "https://localhost:8080/"
        },
        "outputId": "b29a5971-3750-46b2-f4a0-f5693b3f7226"
      },
      "source": [
        "print('train tokenized doc =',train_tokenized_docs[0][25:33])\n",
        "print('train filtered doc =',train_filtered_docs[0][14:22])\n",
        "print('train pos doc =',train_pos_docs[0][14:22])\n",
        "print('train lemmatized doc =',train_lemmatized_docs[0][14:22])"
      ],
      "execution_count": 33,
      "outputs": [
        {
          "output_type": "stream",
          "text": [
            "train tokenized doc = ['of', 'meat', 'production', 'claimed', 'that', 'covid', 'started', 'because']\n",
            "train filtered doc = ['impact', 'meat', 'production', 'claimed', 'covid', 'started', 'eat', 'animals']\n",
            "train pos doc = [('impact', 'NN'), ('meat', 'NN'), ('production', 'NN'), ('claimed', 'VBD'), ('covid', 'NN'), ('started', 'VBD'), ('eat', 'NN'), ('animals', 'NNS')]\n",
            "train lemmatized doc = ['impact', 'meat', 'production', 'claim', 'covid', 'start', 'eat', 'animal']\n"
          ],
          "name": "stdout"
        }
      ]
    },
    {
      "cell_type": "markdown",
      "metadata": {
        "id": "1XdaFGQ7qCvh"
      },
      "source": [
        "### Join words back to sentences"
      ]
    },
    {
      "cell_type": "code",
      "metadata": {
        "id": "BROhXNX7ngjw"
      },
      "source": [
        "train_docs = []\n",
        "for doc in train_lemmatized_docs:\n",
        "  sentence = \" \".join(doc)\n",
        "  train_docs.append(sentence)\n",
        "\n",
        "test_docs = []\n",
        "for doc in test_lemmatized_docs:\n",
        "  sentence = \" \".join(doc)\n",
        "  test_docs.append(sentence)"
      ],
      "execution_count": null,
      "outputs": []
    },
    {
      "cell_type": "markdown",
      "metadata": {
        "id": "wjRwI5RYqR--"
      },
      "source": [
        "## Calculate TF-IDF values"
      ]
    },
    {
      "cell_type": "markdown",
      "metadata": {
        "id": "p_hAHjPkdSfl"
      },
      "source": [
        "### Get word count matrix (TF values)"
      ]
    },
    {
      "cell_type": "code",
      "metadata": {
        "id": "qOrj4LQhrhFr"
      },
      "source": [
        "# create a vocabulary of words from train_docs,\n",
        "# ignore words that appear in max_df% of documents, \n",
        "# max vocabulary size = max_features\n",
        "cv=CountVectorizer(max_df=0.60, tokenizer=word_tokenize, max_features=100000)\n",
        "word_count_vector=cv.fit_transform(train_docs)"
      ],
      "execution_count": null,
      "outputs": []
    },
    {
      "cell_type": "markdown",
      "metadata": {
        "id": "FlyN-e8jdmus"
      },
      "source": [
        "### Get TF-IDF values"
      ]
    },
    {
      "cell_type": "code",
      "metadata": {
        "id": "kC1sOCoqv_lg",
        "colab": {
          "base_uri": "https://localhost:8080/"
        },
        "outputId": "309705f5-7868-487e-8c57-b43b3275f56d"
      },
      "source": [
        "tfidf_transformer=TfidfTransformer(smooth_idf=True,use_idf=True)\n",
        "tfidf_transformer.fit(word_count_vector)"
      ],
      "execution_count": null,
      "outputs": [
        {
          "output_type": "execute_result",
          "data": {
            "text/plain": [
              "TfidfTransformer(norm='l2', smooth_idf=True, sublinear_tf=False, use_idf=True)"
            ]
          },
          "metadata": {
            "tags": []
          },
          "execution_count": 12
        }
      ]
    },
    {
      "cell_type": "markdown",
      "metadata": {
        "id": "jC8zWWVYeKoF"
      },
      "source": [
        "### Help functions for retrieving top-n words"
      ]
    },
    {
      "cell_type": "code",
      "metadata": {
        "id": "gFLzph2bwzxd"
      },
      "source": [
        "def sort_coo(coo_matrix):\n",
        "    tuples = zip(coo_matrix.col, coo_matrix.data)\n",
        "    return sorted(tuples, key=lambda x: (x[1], x[0]), reverse=True)\n",
        "\n",
        "def extract_topn_from_vector(feature_names, sorted_items, topn=10):\n",
        "    \"\"\"get the feature names and tf-idf score of top n items\"\"\"\n",
        "    \n",
        "    #use only topn items from vector\n",
        "    sorted_items = sorted_items[:topn]\n",
        "\n",
        "    score_vals = []\n",
        "    feature_vals = []\n",
        "    \n",
        "    # word index and corresponding tf-idf score\n",
        "    for idx, score in sorted_items:\n",
        "        \n",
        "        #keep track of feature name and its corresponding score\n",
        "        score_vals.append(round(score, 3))\n",
        "        feature_vals.append(feature_names[idx])\n",
        "\n",
        "    #create a tuples of feature,score\n",
        "    #results = zip(feature_vals,score_vals)\n",
        "    results = {}\n",
        "    for idx in range(len(feature_vals)):\n",
        "        results[feature_vals[idx]] = score_vals[idx]\n",
        "    \n",
        "    return results"
      ],
      "execution_count": null,
      "outputs": []
    },
    {
      "cell_type": "markdown",
      "metadata": {
        "id": "mo2jzaFxeYCG"
      },
      "source": [
        "### Get set of top-n words corpus"
      ]
    },
    {
      "cell_type": "code",
      "metadata": {
        "id": "_4ZHEnLIwlBx"
      },
      "source": [
        "# you only needs to do this once, this is a mapping of index to \n",
        "feature_names = cv.get_feature_names()\n",
        "\n",
        "n = 1000000 # top n words from corpus\n",
        "#generate tf-idf for the corpus\n",
        "tf_idf_vector = tfidf_transformer.transform(cv.transform(train_docs))\n",
        "\n",
        "#sort the tf-idf vectors by descending order of scores\n",
        "sorted_items = sort_coo(tf_idf_vector.tocoo())\n",
        "\n",
        "#extract only the top n\n",
        "keywords = extract_topn_from_vector(feature_names,sorted_items,n)\n",
        "\n",
        "vocab = set(keywords.keys())"
      ],
      "execution_count": null,
      "outputs": []
    },
    {
      "cell_type": "code",
      "metadata": {
        "id": "cSSuz0nTghRH",
        "colab": {
          "base_uri": "https://localhost:8080/"
        },
        "outputId": "1cdc3968-1ee4-47c4-b6fe-35163176c43a"
      },
      "source": [
        "len(vocab)"
      ],
      "execution_count": null,
      "outputs": [
        {
          "output_type": "execute_result",
          "data": {
            "text/plain": [
              "56667"
            ]
          },
          "metadata": {
            "tags": []
          },
          "execution_count": 15
        }
      ]
    },
    {
      "cell_type": "markdown",
      "metadata": {
        "id": "6qi-1FvFraAi"
      },
      "source": [
        "Vocab size in **Learning with BOW** in **Fake news learning** notebook will be 56668."
      ]
    },
    {
      "cell_type": "markdown",
      "metadata": {
        "id": "lK15GTMesmcc"
      },
      "source": [
        "## Encode docs"
      ]
    },
    {
      "cell_type": "markdown",
      "metadata": {
        "id": "M9I1e_eOtoAr"
      },
      "source": [
        "### Tokenize docs"
      ]
    },
    {
      "cell_type": "code",
      "metadata": {
        "id": "HiEfeXUBtnYv",
        "colab": {
          "base_uri": "https://localhost:8080/"
        },
        "outputId": "186c2009-d799-41fe-ece5-f1dab1ef50c6"
      },
      "source": [
        "train_tokenized_docs = []\n",
        "for doc in tqdm(train_docs, position=0, leave=True):\n",
        "  train_tokenized_docs.append(word_tokenize(doc))\n",
        "\n",
        "test_tokenized_docs = []\n",
        "for doc in tqdm(test_docs, position=0, leave=True):\n",
        "  test_tokenized_docs.append(word_tokenize(doc))"
      ],
      "execution_count": null,
      "outputs": [
        {
          "output_type": "stream",
          "text": [
            "100%|██████████| 15052/15052 [00:31<00:00, 471.77it/s]\n",
            "100%|██████████| 1266/1266 [00:02<00:00, 469.71it/s]\n"
          ],
          "name": "stderr"
        }
      ]
    },
    {
      "cell_type": "markdown",
      "metadata": {
        "id": "y3Tuow4M-JOn"
      },
      "source": [
        "### Create a word vocabulary\n",
        "\n",
        "We use a dictionary where keys are words and values are the words indices in a list."
      ]
    },
    {
      "cell_type": "code",
      "metadata": {
        "id": "lMGC-lVSs3_B"
      },
      "source": [
        "vocab_list = list(vocab)\n",
        "\n",
        "vocab_dict = dict((word, vocab_list.index(word)+1) for word in vocab_list) # numeric value assigned = word index + 1 in vocab_list"
      ],
      "execution_count": null,
      "outputs": []
    },
    {
      "cell_type": "markdown",
      "metadata": {
        "id": "Q9dBWQbismqN"
      },
      "source": [
        "### Replace words with numeric values"
      ]
    },
    {
      "cell_type": "code",
      "metadata": {
        "id": "VSW7h6rokR9i",
        "colab": {
          "base_uri": "https://localhost:8080/"
        },
        "outputId": "314f04a0-6c3c-4652-e126-f1909cee1fbe"
      },
      "source": [
        "OUT_OF_VOCAB = 0 # special value for words out of vocabulary\n",
        "\n",
        "train_encoded_docs = []\n",
        "for doc in tqdm(train_tokenized_docs, position=0, leave=True):\n",
        "\n",
        "  encoded_doc = []\n",
        "  for word in doc:\n",
        "\n",
        "    if word in vocab_list:\n",
        "      encoded_doc.append(vocab_dict[word])\n",
        "    else:\n",
        "      encoded_doc.append(OUT_OF_VOCAB)\n",
        "      \n",
        "  train_encoded_docs.append(encoded_doc)\n",
        "\n",
        "test_encoded_docs = []\n",
        "for doc in tqdm(test_tokenized_docs, position=0, leave=True):\n",
        "  \n",
        "  encoded_doc = []\n",
        "  for word in doc:\n",
        "    if word in vocab_list:\n",
        "      encoded_doc.append(vocab_dict[word]) # numeric value assigned = word index + 1 in vocab_list\n",
        "    else:\n",
        "      encoded_doc.append(OUT_OF_VOCAB)\n",
        "\n",
        "  test_encoded_docs.append(encoded_doc)"
      ],
      "execution_count": null,
      "outputs": [
        {
          "output_type": "stream",
          "text": [
            "100%|██████████| 15052/15052 [2:41:43<00:00,  1.55it/s]\n",
            "100%|██████████| 1266/1266 [14:38<00:00,  1.44it/s]\n"
          ],
          "name": "stderr"
        }
      ]
    },
    {
      "cell_type": "markdown",
      "metadata": {
        "id": "12mXhaqslUwt"
      },
      "source": [
        "### Save encodings"
      ]
    },
    {
      "cell_type": "code",
      "metadata": {
        "id": "CJCZ2AUIR77k"
      },
      "source": [
        "train_encoded_df = pd.DataFrame({'full_text_encoded':train_encoded_docs})\n",
        "test_encoded_df = pd.DataFrame({'full_text_encoded':test_encoded_docs})\n",
        "\n",
        "# split to 4 datasets\n",
        "num_splits = 4\n",
        "split_size = 3763 # (15052 / 4 = 3763) rows per database\n",
        "for i in range(num_splits):\n",
        "  temp_df = train_encoded_df[(i*split_size):((i+1)*split_size)]\n",
        "  path = f'/content/train_encoded_v2_{i}.csv'\n",
        "  temp_df.to_csv(path, index=False)\n",
        "\n",
        "test_encoded_df.to_csv('test_encoded_v2.csv', index=False)"
      ],
      "execution_count": null,
      "outputs": []
    },
    {
      "cell_type": "markdown",
      "metadata": {
        "id": "GpKRNeaIKmim"
      },
      "source": [
        "# Contextualized embeddings with Bert\n",
        "\n",
        "In this section, we extract embedded representations of the **'fullText_based_content'** column of the Liar-liar dataset (the documents) from a pretrained transformer model - **Bert**.<br>\n",
        "The contextualized embeddings are vectors that **Bert** learned for each document.<br>\n",
        "<br>\n",
        "We will get the embeddings in the following manner:\n",
        "\n",
        "- Convert the documents to a *Bert-format*\n",
        "  - i.e. Save documents as class **input_features** with other attributes that Bert needs.\n",
        "- Download the Bert model.\n",
        "- Feed Bert the converted documents.\n",
        "- Extract the embeddings Bert learned.\n",
        "\n",
        "<br>\n",
        "A guide for extracting contextualized word embeddings from Bert we used:<br>\n",
        "https://towardsdatascience.com/nlp-extract-contextualized-word-embeddings-from-bert-keras-tf-67ef29f60a7b"
      ]
    },
    {
      "cell_type": "markdown",
      "metadata": {
        "id": "PEVAYvXaxCW2"
      },
      "source": [
        "### Imports & definitions\n"
      ]
    },
    {
      "cell_type": "code",
      "metadata": {
        "id": "w0Q-uTW3KgAO"
      },
      "source": [
        "import pandas as pd\n",
        "import numpy as np\n",
        "import io\n",
        "import time\n",
        "from tqdm import tqdm\n",
        "\n",
        "#tf\n",
        "!pip install tensorflow==1.13.0rc1\n",
        "import tensorflow as tf\n",
        "\n",
        "#bert & other\n",
        "!rm -rf bert\n",
        "!git clone https://github.com/google-research/bert\n",
        "import sys\n",
        "sys.path.append('bert/')\n",
        "from __future__ import absolute_import\n",
        "from __future__ import division\n",
        "from __future__ import print_function\n",
        "import codecs\n",
        "import collections\n",
        "import json\n",
        "import re\n",
        "import os\n",
        "import pprint\n",
        "import modeling\n",
        "import tokenization"
      ],
      "execution_count": null,
      "outputs": []
    },
    {
      "cell_type": "markdown",
      "metadata": {
        "id": "zO2PKTYEjwXc"
      },
      "source": [
        "TPU download & config"
      ]
    },
    {
      "cell_type": "code",
      "metadata": {
        "id": "dwFtGek4LE71"
      },
      "source": [
        "assert 'COLAB_TPU_ADDR' in os.environ, 'ERROR: Not connected to a TPU runtime; please see the first cell in this notebook for instructions!'\n",
        "TPU_ADDRESS = 'grpc://' + os.environ['COLAB_TPU_ADDR']\n",
        "print('TPU address is', TPU_ADDRESS)\n",
        "from google.colab import auth\n",
        "auth.authenticate_user()\n",
        "with tf.compat.v1.Session(TPU_ADDRESS) as session:\n",
        "  print('TPU devices:')\n",
        "  pprint.pprint(session.list_devices())\n",
        "\n",
        "  # Upload credentials to TPU.\n",
        "  with open('/content/adc.json', 'r') as f:\n",
        "    auth_info = json.load(f)\n",
        "  tf.contrib.cloud.configure_gcs(session, credentials=auth_info)\n",
        "  # Now credentials are set for all future sessions on this TPU."
      ],
      "execution_count": null,
      "outputs": []
    },
    {
      "cell_type": "code",
      "metadata": {
        "id": "pVj6hM5NPvER"
      },
      "source": [
        "# Available pretrained model checkpoints:\n",
        "#   uncased_L-12_H-768_A-12: uncased BERT base model\n",
        "\n",
        "#   uncased_L-24_H-1024_A-16: uncased BERT large model\n",
        "#   cased_L-12_H-768_A-12: cased BERT large model\n",
        "BERT_MODEL = 'uncased_L-12_H-768_A-12'\n",
        "BERT_PRETRAINED_DIR = 'gs://cloud-tpu-checkpoints/bert/' + BERT_MODEL\n",
        "print('***** BERT pretrained directory: {} *****'.format(BERT_PRETRAINED_DIR))\n",
        "!gsutil ls $BERT_PRETRAINED_DIR"
      ],
      "execution_count": null,
      "outputs": []
    },
    {
      "cell_type": "markdown",
      "metadata": {
        "id": "YQfe3OvnFPKf"
      },
      "source": [
        "### Get train and test datasets"
      ]
    },
    {
      "cell_type": "code",
      "metadata": {
        "id": "kYtWajIcPVVZ"
      },
      "source": [
        "#train\n",
        "num_splits = 7\n",
        "train = pd.read_csv('https://raw.githubusercontent.com/AlonBrul/liar-liar-dataset/main/liar_train_0.csv')\n",
        "for i in range(1, num_splits):\n",
        "  temp = pd.read_csv(f'https://raw.githubusercontent.com/AlonBrul/liar-liar-dataset/main/liar_train_{i}.csv')\n",
        "  train = train.append(temp)\n",
        "\n",
        "#test\n",
        "test = pd.read_csv('https://raw.githubusercontent.com/AlonBrul/liar-liar-dataset-train/main/liar_test.csv')"
      ],
      "execution_count": null,
      "outputs": []
    },
    {
      "cell_type": "markdown",
      "metadata": {
        "id": "cnr7tWuQK6B0"
      },
      "source": [
        "### Drop unwanted columns"
      ]
    },
    {
      "cell_type": "code",
      "metadata": {
        "id": "aIMVCGRpPPf2"
      },
      "source": [
        "train.drop(['id', 'date', 'speaker', 'statement', 'sources', 'paragraph_based_content'], axis=1, inplace=True)\n",
        "test.drop(['id', 'date', 'speaker', 'statement', 'sources', 'paragraph_based_content'], axis=1, inplace=True)"
      ],
      "execution_count": null,
      "outputs": []
    },
    {
      "cell_type": "code",
      "metadata": {
        "colab": {
          "base_uri": "https://localhost:8080/",
          "height": 210
        },
        "id": "aYcoURkpkY8U",
        "outputId": "c2e43ea4-a387-454e-c381-ab5440e309be"
      },
      "source": [
        "train.head(3)"
      ],
      "execution_count": null,
      "outputs": [
        {
          "output_type": "execute_result",
          "data": {
            "text/html": [
              "<div>\n",
              "<style scoped>\n",
              "    .dataframe tbody tr th:only-of-type {\n",
              "        vertical-align: middle;\n",
              "    }\n",
              "\n",
              "    .dataframe tbody tr th {\n",
              "        vertical-align: top;\n",
              "    }\n",
              "\n",
              "    .dataframe thead th {\n",
              "        text-align: right;\n",
              "    }\n",
              "</style>\n",
              "<table border=\"1\" class=\"dataframe\">\n",
              "  <thead>\n",
              "    <tr style=\"text-align: right;\">\n",
              "      <th></th>\n",
              "      <th>id</th>\n",
              "      <th>date</th>\n",
              "      <th>speaker</th>\n",
              "      <th>statement</th>\n",
              "      <th>sources</th>\n",
              "      <th>paragraph_based_content</th>\n",
              "      <th>fullText_based_content</th>\n",
              "      <th>label-liar</th>\n",
              "    </tr>\n",
              "  </thead>\n",
              "  <tbody>\n",
              "    <tr>\n",
              "      <th>0</th>\n",
              "      <td>18178</td>\n",
              "      <td>2020-03-18T13:26:42-04:00</td>\n",
              "      <td>Instagram posts</td>\n",
              "      <td>\"COVID-19 started because we eat animals.\"</td>\n",
              "      <td>['https://www.cdc.gov/coronavirus/2019-ncov/ca...</td>\n",
              "      <td>['Vegan Instagram users are pinning the 2019 c...</td>\n",
              "      <td>Vegan Instagram users are pinning the 2019 cor...</td>\n",
              "      <td>barely-true</td>\n",
              "    </tr>\n",
              "    <tr>\n",
              "      <th>1</th>\n",
              "      <td>3350</td>\n",
              "      <td>2011-03-04T09:12:59-05:00</td>\n",
              "      <td>Glenn Beck</td>\n",
              "      <td>Says Michelle Obama has 43 people on her staff...</td>\n",
              "      <td>['http://www.glennbeck.com/2011/02/25/while-wo...</td>\n",
              "      <td>['Glenn Beck rekindled a falsehood about the s...</td>\n",
              "      <td>Glenn Beck rekindled a falsehood about the siz...</td>\n",
              "      <td>pants-fire</td>\n",
              "    </tr>\n",
              "    <tr>\n",
              "      <th>2</th>\n",
              "      <td>14343</td>\n",
              "      <td>2017-07-21T11:52:44-04:00</td>\n",
              "      <td>Mike Pence</td>\n",
              "      <td>Says President Donald Trump \"has signed more l...</td>\n",
              "      <td>['https://nrf.com/events/retail-advocates-summ...</td>\n",
              "      <td>['Vice President Mike Pence says that when it ...</td>\n",
              "      <td>Vice President Mike Pence says that when it co...</td>\n",
              "      <td>half-true</td>\n",
              "    </tr>\n",
              "  </tbody>\n",
              "</table>\n",
              "</div>"
            ],
            "text/plain": [
              "      id  ...   label-liar\n",
              "0  18178  ...  barely-true\n",
              "1   3350  ...   pants-fire\n",
              "2  14343  ...    half-true\n",
              "\n",
              "[3 rows x 8 columns]"
            ]
          },
          "metadata": {
            "tags": []
          },
          "execution_count": 5
        }
      ]
    },
    {
      "cell_type": "markdown",
      "metadata": {
        "id": "YYxrqBWUFlZS"
      },
      "source": [
        "### Definitions for Bert"
      ]
    },
    {
      "cell_type": "code",
      "metadata": {
        "id": "h5HILWa-QHWz"
      },
      "source": [
        "LAYERS = [-1,-2,-3,-4]\n",
        "NUM_TPU_CORES = 8\n",
        "MAX_SEQ_LENGTH = 512\n",
        "BERT_CONFIG = BERT_PRETRAINED_DIR + '/bert_config.json'\n",
        "CHKPT_DIR = BERT_PRETRAINED_DIR + '/bert_model.ckpt'\n",
        "VOCAB_FILE = BERT_PRETRAINED_DIR + '/vocab.txt'\n",
        "INIT_CHECKPOINT = BERT_PRETRAINED_DIR + '/bert_model.ckpt'\n",
        "BATCH_SIZE = 128\n",
        "VECTOR_DIM = 5"
      ],
      "execution_count": null,
      "outputs": []
    },
    {
      "cell_type": "markdown",
      "metadata": {
        "id": "1D2vuG4CFxhv"
      },
      "source": [
        "### Functions & Classes for Bert"
      ]
    },
    {
      "cell_type": "code",
      "metadata": {
        "id": "xvMgYhy1QIvy"
      },
      "source": [
        "class InputExample():\n",
        "\n",
        "  def __init__(self, unique_id, text_a):\n",
        "    self.unique_id = unique_id\n",
        "    self.text_a = text_a"
      ],
      "execution_count": null,
      "outputs": []
    },
    {
      "cell_type": "code",
      "metadata": {
        "id": "WJc92WMNQ0hw"
      },
      "source": [
        "class InputFeatures():\n",
        "  \"\"\"A single set of features of data.\"\"\"\n",
        "\n",
        "  def __init__(self, unique_id, tokens, input_ids, input_mask, input_type_ids):\n",
        "    self.unique_id = unique_id\n",
        "    self.tokens = tokens\n",
        "    self.input_ids = input_ids\n",
        "    self.input_mask = input_mask\n",
        "    self.input_type_ids = input_type_ids"
      ],
      "execution_count": null,
      "outputs": []
    },
    {
      "cell_type": "code",
      "metadata": {
        "id": "nkWEUeOCSRER"
      },
      "source": [
        "def input_fn_builder(features, seq_length):\n",
        "  \"\"\"Creates an `input_fn` closure to be passed to TPUEstimator.\"\"\"\n",
        "\n",
        "  all_unique_ids = []\n",
        "  all_input_ids = []\n",
        "  all_input_mask = []\n",
        "  all_input_type_ids = []\n",
        "\n",
        "  for feature in features:\n",
        "    all_unique_ids.append(feature.unique_id)\n",
        "    all_input_ids.append(feature.input_ids)\n",
        "    all_input_mask.append(feature.input_mask)\n",
        "    all_input_type_ids.append(feature.input_type_ids)\n",
        "\n",
        "  def input_fn(params):\n",
        "    \"\"\"The actual input function.\"\"\"\n",
        "    batch_size = params[\"batch_size\"]\n",
        "\n",
        "    num_examples = len(features)\n",
        "\n",
        "    # This is for demo purposes and does NOT scale to large data sets. We do\n",
        "    # not use Dataset.from_generator() because that uses tf.py_func which is\n",
        "    # not TPU compatible. The right way to load data is with TFRecordReader.\n",
        "    d = tf.data.Dataset.from_tensor_slices({\n",
        "        \"unique_ids\":\n",
        "            tf.constant(all_unique_ids,\n",
        "                        shape=[num_examples],\n",
        "                        dtype=tf.int32),\n",
        "        \"input_ids\":\n",
        "            tf.constant(all_input_ids,\n",
        "                        shape=[num_examples, seq_length],\n",
        "                        dtype=tf.int32),\n",
        "        \"input_mask\":\n",
        "            tf.constant(all_input_mask,\n",
        "                        shape=[num_examples, seq_length],\n",
        "                        dtype=tf.int32),\n",
        "        \"input_type_ids\":\n",
        "            tf.constant(all_input_type_ids,\n",
        "                        shape=[num_examples, seq_length],\n",
        "                        dtype=tf.int32),\n",
        "    })\n",
        "\n",
        "    d = d.batch(batch_size=batch_size, drop_remainder=False)\n",
        "    return d\n",
        "\n",
        "  return input_fn\n",
        "  \n",
        "def model_fn_builder(bert_config, init_checkpoint, layer_indexes, use_tpu,\n",
        "                     use_one_hot_embeddings):\n",
        "  \"\"\"Returns `model_fn` closure for TPUEstimator.\"\"\"\n",
        "\n",
        "  def model_fn(features, labels, mode, params):  # pylint: disable=unused-argument\n",
        "    \"\"\"The `model_fn` for TPUEstimator.\"\"\"\n",
        "\n",
        "    unique_ids = features[\"unique_ids\"] \n",
        "    input_ids = features[\"input_ids\"]\n",
        "    input_mask = features[\"input_mask\"]\n",
        "    input_type_ids = features[\"input_type_ids\"]\n",
        "\n",
        "    model = modeling.BertModel(\n",
        "        config=bert_config,\n",
        "        is_training=False,\n",
        "        input_ids=input_ids,\n",
        "        input_mask=input_mask,\n",
        "        token_type_ids=input_type_ids,\n",
        "        use_one_hot_embeddings=use_one_hot_embeddings)\n",
        "\n",
        "    if mode != tf.estimator.ModeKeys.PREDICT:\n",
        "      raise ValueError(\"Only PREDICT modes are supported: %s\" % (mode))\n",
        "\n",
        "    tvars = tf.trainable_variables()\n",
        "    scaffold_fn = None\n",
        "    (assignment_map,\n",
        "     initialized_variable_names) = modeling.get_assignment_map_from_checkpoint(\n",
        "         tvars, init_checkpoint)\n",
        "    if use_tpu:\n",
        "      def tpu_scaffold():\n",
        "        tf.train.init_from_checkpoint(init_checkpoint, assignment_map)\n",
        "        return tf.train.Scaffold()\n",
        "\n",
        "      scaffold_fn = tpu_scaffold\n",
        "    else:\n",
        "      tf.train.init_from_checkpoint(init_checkpoint, assignment_map)\n",
        "\n",
        "    all_layers = model.get_all_encoder_layers()\n",
        "\n",
        "    predictions = {\n",
        "        \"unique_id\": unique_ids,\n",
        "    }\n",
        "\n",
        "    for (i, layer_index) in enumerate(layer_indexes):\n",
        "      predictions[\"layer_output_%d\" % i] = all_layers[layer_index]\n",
        "\n",
        "    output_spec = tf.contrib.tpu.TPUEstimatorSpec(\n",
        "        mode=mode, predictions=predictions, scaffold_fn=scaffold_fn)\n",
        "    return output_spec\n",
        "\n",
        "  return model_fn"
      ],
      "execution_count": null,
      "outputs": []
    },
    {
      "cell_type": "code",
      "metadata": {
        "id": "D71erMLASnD2"
      },
      "source": [
        "def convert_examples_to_features(examples, seq_length, tokenizer):\n",
        "  \"\"\"Loads a data file into a list of `InputBatch`s.\"\"\"\n",
        "\n",
        "  features = []\n",
        "  for ex_index, example in enumerate(examples):\n",
        "    tokens_a = tokenizer.tokenize(example.text_a)\n",
        "\n",
        "    # Account for [CLS] and [SEP] with \"- 2\"\n",
        "    if len(tokens_a) > seq_length - 2:\n",
        "      tokens_a = tokens_a[:(seq_length - 2)]\n",
        "\n",
        "    tokens = []\n",
        "    input_type_ids = []\n",
        "    tokens.append(\"[CLS]\")\n",
        "    input_type_ids.append(0)\n",
        "    for token in tokens_a:\n",
        "      tokens.append(token)\n",
        "      input_type_ids.append(0)\n",
        "    tokens.append(\"[SEP]\")\n",
        "    input_type_ids.append(0)\n",
        "\n",
        "    input_ids = tokenizer.convert_tokens_to_ids(tokens)\n",
        "\n",
        "    # The mask has 1 for real tokens and 0 for padding tokens. Only real\n",
        "    # tokens are attended to.\n",
        "    input_mask = [1] * len(input_ids)\n",
        "\n",
        "    # Zero-pad up to the sequence length.\n",
        "    while len(input_ids) < seq_length:\n",
        "      input_ids.append(0)\n",
        "      input_mask.append(0)\n",
        "      input_type_ids.append(0)\n",
        "\n",
        "    assert len(input_ids) == seq_length\n",
        "    assert len(input_mask) == seq_length\n",
        "    assert len(input_type_ids) == seq_length\n",
        "\n",
        "    features.append(\n",
        "        InputFeatures(\n",
        "            unique_id=example.unique_id,\n",
        "            tokens=tokens,\n",
        "            input_ids=input_ids,\n",
        "            input_mask=input_mask,\n",
        "            input_type_ids=input_type_ids))\n",
        "  return features"
      ],
      "execution_count": null,
      "outputs": []
    },
    {
      "cell_type": "code",
      "metadata": {
        "id": "rBreVSFESvbV"
      },
      "source": [
        "def read_sequence(input_sentences):\n",
        "  examples = []\n",
        "  unique_id = 0\n",
        "  for sentence in input_sentences:\n",
        "    line = tokenization.convert_to_unicode(sentence)\n",
        "    examples.append(InputExample(unique_id=unique_id, text_a=line))\n",
        "    unique_id += 1\n",
        "  return examples"
      ],
      "execution_count": null,
      "outputs": []
    },
    {
      "cell_type": "code",
      "metadata": {
        "id": "FGcycZuxS9XY"
      },
      "source": [
        "def get_features(input_list, dim=768):\n",
        "  layer_indexes = LAYERS\n",
        "\n",
        "  bert_config = modeling.BertConfig.from_json_file(BERT_CONFIG)\n",
        "\n",
        "  tokenizer = tokenization.FullTokenizer(\n",
        "      vocab_file=VOCAB_FILE, do_lower_case=True)\n",
        "\n",
        "  is_per_host = tf.contrib.tpu.InputPipelineConfig.PER_HOST_V2\n",
        "  tpu_cluster_resolver = tf.contrib.cluster_resolver.TPUClusterResolver(TPU_ADDRESS)\n",
        "  run_config = tf.contrib.tpu.RunConfig(\n",
        "      cluster=tpu_cluster_resolver,\n",
        "      tpu_config=tf.contrib.tpu.TPUConfig(\n",
        "          num_shards=NUM_TPU_CORES,\n",
        "          per_host_input_for_training=is_per_host))\n",
        "\n",
        "  model_fn = model_fn_builder(\n",
        "      bert_config=bert_config,\n",
        "      init_checkpoint=INIT_CHECKPOINT,\n",
        "      layer_indexes=layer_indexes,\n",
        "      use_tpu=False,\n",
        "      use_one_hot_embeddings=True)\n",
        "\n",
        "  # If TPU is not available, this will fall back to normal Estimator on CPU\n",
        "  # or GPU.\n",
        "  estimator = tf.contrib.tpu.TPUEstimator(\n",
        "      use_tpu=False,\n",
        "      model_fn=model_fn,\n",
        "      config=run_config,\n",
        "      predict_batch_size=BATCH_SIZE,\n",
        "      train_batch_size=BATCH_SIZE)  \n",
        "\n",
        "  examples = read_sequence(input_list)\n",
        "\n",
        "  features = convert_examples_to_features(\n",
        "      examples=examples, seq_length=MAX_SEQ_LENGTH, tokenizer=tokenizer)\n",
        "\n",
        "  input_fn = input_fn_builder(\n",
        "      features=features, seq_length=MAX_SEQ_LENGTH)\n",
        "\n",
        "  unique_id_to_feature = {}\n",
        "  for feature in features:\n",
        "    unique_id_to_feature[feature.unique_id] = feature\n",
        "\n",
        "  features_lst = []\n",
        "\n",
        "  # Get features\n",
        "  for result in tqdm(estimator.predict(input_fn, yield_single_examples=True), position=0, leave=True):\n",
        "\n",
        "    unique_id = int(result[\"unique_id\"])\n",
        "    feature = unique_id_to_feature[unique_id]\n",
        "    output = collections.OrderedDict()\n",
        "    for i, token in enumerate(feature.tokens):\n",
        "      layers = []\n",
        "      for j, layer_index in enumerate(layer_indexes):\n",
        "        layer_output = result[\"layer_output_%d\" % j]\n",
        "        layer_output_flat = np.array([x for x in layer_output[i:(i + 1)].flat])\n",
        "        layers.append(layer_output_flat)\n",
        "\n",
        "      output[token] = sum(layers)[:dim]\n",
        "\n",
        "    features_lst.append(output)\n",
        "\n",
        "  return features_lst"
      ],
      "execution_count": null,
      "outputs": []
    },
    {
      "cell_type": "code",
      "metadata": {
        "id": "kb-BnTSCTEqf"
      },
      "source": [
        "def extract_embedding_vector(features):\n",
        "  vector = []\n",
        "  for word in features:\n",
        "    vector.append(list(features[word]))\n",
        "  return vector\n",
        "\n",
        "def extract_embedded_docs(features_lst):\n",
        "  embedded_docs = []\n",
        "  for features in features_lst:\n",
        "    embedded_docs.append(extract_embedding_vector(features))\n",
        "  return embedded_docs"
      ],
      "execution_count": null,
      "outputs": []
    },
    {
      "cell_type": "markdown",
      "metadata": {
        "id": "EcZmAWKsGE1H"
      },
      "source": [
        "### Get train embeddings"
      ]
    },
    {
      "cell_type": "code",
      "metadata": {
        "id": "Joo2RZPgakWC"
      },
      "source": [
        "train_docs = train['fullText_based_content'].tolist()"
      ],
      "execution_count": null,
      "outputs": []
    },
    {
      "cell_type": "markdown",
      "metadata": {
        "id": "LvvVPoc8039_"
      },
      "source": [
        "Split train docs, the emdedded docs are to large to get all at once"
      ]
    },
    {
      "cell_type": "code",
      "metadata": {
        "id": "BKhqPxhNq_Ky"
      },
      "source": [
        "l_train = len(train_docs)"
      ],
      "execution_count": null,
      "outputs": []
    },
    {
      "cell_type": "markdown",
      "metadata": {
        "id": "AZLfnWQy26j-"
      },
      "source": [
        "First split"
      ]
    },
    {
      "cell_type": "code",
      "metadata": {
        "id": "Nkbu_Levr1bY"
      },
      "source": [
        "train_docs_1 = train_docs[:int(l_train/3)] # first third\n",
        "\n",
        "train_features_1 = get_features(train_docs_1, dim=5)"
      ],
      "execution_count": null,
      "outputs": []
    },
    {
      "cell_type": "code",
      "metadata": {
        "id": "lWyrvaYa1Kbv"
      },
      "source": [
        "train_embedded_1 = extract_embedded_docs(train_features_1)"
      ],
      "execution_count": null,
      "outputs": []
    },
    {
      "cell_type": "markdown",
      "metadata": {
        "id": "JIakKYax3eb9"
      },
      "source": [
        "Save first split embeddings"
      ]
    },
    {
      "cell_type": "code",
      "metadata": {
        "id": "NJM_Xim71ep3"
      },
      "source": [
        "train_embedded_df_1 = pd.DataFrame({'full_text_embedded':train_embedded_1})\n",
        "\n",
        "# split to 4 datasets\n",
        "num_splits = 4\n",
        "split_size = 1673 # rows per database\n",
        "for i in range(num_splits):\n",
        "  temp_df = train_embedded_df_1[(i*split_size):((i+1)*split_size)]\n",
        "  path = f'/content/train_embedded_v2_{i}.csv'\n",
        "  temp_df.to_csv(path, index=False)"
      ],
      "execution_count": null,
      "outputs": []
    },
    {
      "cell_type": "markdown",
      "metadata": {
        "id": "_6glqKt32hU4"
      },
      "source": [
        "Second split"
      ]
    },
    {
      "cell_type": "code",
      "metadata": {
        "id": "IU_h7m7kruLS"
      },
      "source": [
        "train_docs_2 = train_docs[int(l_train/3):int((2*l_train)/3)] # second third\n",
        "\n",
        "train_features_2 = get_features(train_docs_2, dim=5)"
      ],
      "execution_count": null,
      "outputs": []
    },
    {
      "cell_type": "code",
      "metadata": {
        "id": "-ouoYtk-1LsJ"
      },
      "source": [
        "train_embedded_2 = extract_embedded_docs(train_features_2)"
      ],
      "execution_count": null,
      "outputs": []
    },
    {
      "cell_type": "markdown",
      "metadata": {
        "id": "f3XZPKJ93ZAx"
      },
      "source": [
        "Save second split embeddings"
      ]
    },
    {
      "cell_type": "code",
      "metadata": {
        "id": "Jj_Pt9-q2G7M"
      },
      "source": [
        "train_embedded_df_2 = pd.DataFrame({'full_text_embedded':train_embedded_2})\n",
        "\n",
        "# split to 4 datasets\n",
        "num_splits = 4\n",
        "split_size = 1673 # rows per database\n",
        "for i in range(num_splits):\n",
        "  temp_df = train_embedded_df_2[(i*split_size):((i+1)*split_size)]\n",
        "  path = f'/content/train_embedded_v2_{i+4}.csv'\n",
        "  temp_df.to_csv(path, index=False)"
      ],
      "execution_count": null,
      "outputs": []
    },
    {
      "cell_type": "markdown",
      "metadata": {
        "id": "qCO_EPQb2lo7"
      },
      "source": [
        "Third split (last)"
      ]
    },
    {
      "cell_type": "code",
      "metadata": {
        "id": "DfE4qUmZrv4f"
      },
      "source": [
        "train_docs_3 = train_docs[int((2*l_train/3)):l_train] # third third\n",
        "\n",
        "train_features_3 = get_features(train_docs_3, dim=5)"
      ],
      "execution_count": null,
      "outputs": []
    },
    {
      "cell_type": "code",
      "metadata": {
        "id": "FFY3FFyf6hkU"
      },
      "source": [
        "train_embedded_3 = extract_embedded_docs(train_features_3)"
      ],
      "execution_count": null,
      "outputs": []
    },
    {
      "cell_type": "markdown",
      "metadata": {
        "id": "svgdHqan3UKO"
      },
      "source": [
        "Save third split embeddings"
      ]
    },
    {
      "cell_type": "code",
      "metadata": {
        "id": "sW0kT2xG6sdN"
      },
      "source": [
        "train_embedded_df_3 = pd.DataFrame({'full_text_embedded':train_embedded_3})\n",
        "\n",
        "# save train embeddings\n",
        "# split to 4 datasets\n",
        "num_splits = 4\n",
        "split_size = 1673 # rows per database\n",
        "for i in range(num_splits):\n",
        "  temp_df = train_embedded_df_3[(i*split_size):((i+1)*split_size)]\n",
        "  path = f'/content/train_embedded_v2_{i+8}.csv'\n",
        "  temp_df.to_csv(path, index=False)"
      ],
      "execution_count": null,
      "outputs": []
    },
    {
      "cell_type": "markdown",
      "metadata": {
        "id": "uZFhNZPQ3EuD"
      },
      "source": [
        "Without splits (when max sequence len = 128)"
      ]
    },
    {
      "cell_type": "code",
      "metadata": {
        "id": "-ZR1Hm-otUMe"
      },
      "source": [
        "train_features = get_features(train_docs, dim=5)"
      ],
      "execution_count": null,
      "outputs": []
    },
    {
      "cell_type": "code",
      "metadata": {
        "id": "tFa8RRQuGY5X"
      },
      "source": [
        "train_embedded = extract_embedded_docs(train_features)"
      ],
      "execution_count": null,
      "outputs": []
    },
    {
      "cell_type": "markdown",
      "metadata": {
        "id": "NEeAOF0OldLI"
      },
      "source": [
        "Save train embeddings"
      ]
    },
    {
      "cell_type": "code",
      "metadata": {
        "id": "cWHgZYEvZ8vy"
      },
      "source": [
        "train_embedded_df = pd.DataFrame({'full_text_embedded':train_embedded})\n",
        "\n",
        "# save train embeddings\n",
        "# split to 4 datasets\n",
        "num_splits = 4\n",
        "split_size = 3763 # (15052 / 4 = 3763) rows per database\n",
        "for i in range(num_splits):\n",
        "  temp_df = train_embedded_df[(i*split_size):((i+1)*split_size)]\n",
        "  path = f'/content/train_embedded{i}.csv'\n",
        "  temp_df.to_csv(path, index=False)"
      ],
      "execution_count": null,
      "outputs": []
    },
    {
      "cell_type": "markdown",
      "metadata": {
        "id": "HHlEWuXl4Kl0"
      },
      "source": [
        "### Get test embeddings"
      ]
    },
    {
      "cell_type": "code",
      "metadata": {
        "id": "c8sP-Ftc4KHA"
      },
      "source": [
        "test_docs = list(test['fullText_based_content'])"
      ],
      "execution_count": null,
      "outputs": []
    },
    {
      "cell_type": "code",
      "metadata": {
        "id": "UQjG9AqC37_N"
      },
      "source": [
        "test_features = get_features(test_docs, dim=5)"
      ],
      "execution_count": null,
      "outputs": []
    },
    {
      "cell_type": "code",
      "metadata": {
        "id": "w7brJPFH398X"
      },
      "source": [
        "test_embedded = extract_embedded_docs(test_features)"
      ],
      "execution_count": null,
      "outputs": []
    },
    {
      "cell_type": "markdown",
      "metadata": {
        "id": "p3OutY1b4oW8"
      },
      "source": [
        "Save test embeddings"
      ]
    },
    {
      "cell_type": "code",
      "metadata": {
        "id": "jmEpzdBr3xMX"
      },
      "source": [
        "test_embedded_df = pd.DataFrame({'full_text_embedded':test_embedded})\n",
        "\n",
        "# save test embeddings\n",
        "test_embedded_df.to_csv('test_embedded.csv', index=False)"
      ],
      "execution_count": null,
      "outputs": []
    },
    {
      "cell_type": "code",
      "metadata": {
        "colab": {
          "base_uri": "https://localhost:8080/"
        },
        "id": "mhnT1uYpQPa8",
        "outputId": "ff55effc-b0c8-4d86-d128-733560642eaf"
      },
      "source": [
        "%%shell\n",
        "jupyter nbconvert --to html /content/Fake_news_encoding.ipynb"
      ],
      "execution_count": 35,
      "outputs": [
        {
          "output_type": "stream",
          "text": [
            "[NbConvertApp] Converting notebook /content/Fake_news_encoding.ipynb to html\n",
            "[NbConvertApp] Writing 419158 bytes to /content/Fake_news_encoding.html\n"
          ],
          "name": "stdout"
        },
        {
          "output_type": "execute_result",
          "data": {
            "text/plain": [
              ""
            ]
          },
          "metadata": {
            "tags": []
          },
          "execution_count": 35
        }
      ]
    },
    {
      "cell_type": "code",
      "metadata": {
        "id": "sPgPyDoGaPiV"
      },
      "source": [
        ""
      ],
      "execution_count": null,
      "outputs": []
    }
  ]
}